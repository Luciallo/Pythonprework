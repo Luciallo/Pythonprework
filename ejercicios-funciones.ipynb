{
 "cells": [
  {
   "cell_type": "markdown",
   "metadata": {},
   "source": [
    "\n",
    "<div style=\"text-align: center;\">\n",
    "  <img src=\"https://github.com/Hack-io-Data/Imagenes/blob/main/01-LogosHackio/logo_celeste@4x.png?raw=true\" alt=\"esquema\" />\n",
    "</div>"
   ]
  },
  {
   "cell_type": "markdown",
   "metadata": {},
   "source": [
    "#### 1. Escribe una función sin parámetros que imprima el siguiente mensaje \"¡Hola! Bienvenido.\"\n"
   ]
  },
  {
   "cell_type": "code",
   "execution_count": 1,
   "metadata": {},
   "outputs": [
    {
     "name": "stdout",
     "output_type": "stream",
     "text": [
      "¡Hola! Bienvenido.\n"
     ]
    }
   ],
   "source": [
    "def saludo ():\n",
    "    x =\"¡Hola! Bienvenido.\"\n",
    "    print (x)\n",
    "\n",
    "saludo()"
   ]
  },
  {
   "cell_type": "markdown",
   "metadata": {},
   "source": [
    "#### 2. Escribe una función que reciba dos parámetros y devuelva la suma de ambos.\n"
   ]
  },
  {
   "cell_type": "code",
   "execution_count": 2,
   "metadata": {},
   "outputs": [
    {
     "name": "stdout",
     "output_type": "stream",
     "text": [
      "La suma de  3 y de 4 es 7\n"
     ]
    }
   ],
   "source": [
    "def dos_parámetros (numero1, numero2):\n",
    "    resultado = numero1 + numero2\n",
    "    print(f\"La suma de \",numero1, \"y de\" ,numero2, \"es\" ,resultado,)\n",
    "\n",
    "dos_parámetros(3,4)"
   ]
  },
  {
   "cell_type": "markdown",
   "metadata": {},
   "source": [
    "#### 3. Escribe una función que reciba un número y devuelva True si es par, False si no lo es."
   ]
  },
  {
   "cell_type": "code",
   "execution_count": 3,
   "metadata": {},
   "outputs": [
    {
     "name": "stdout",
     "output_type": "stream",
     "text": [
      "El número 6 es par.\n"
     ]
    }
   ],
   "source": [
    "def es_par(numero):\n",
    "    \"\"\"\n",
    "    Función que verifica si un número es par.\n",
    "    \n",
    "    Parámetro:\n",
    "    numero (int): El número que queremos verificar.\n",
    "    \n",
    "    Retorna:\n",
    "    bool: True si el número es par, False si es impar.\n",
    "    \"\"\"\n",
    "    if numero % 2 == 0:\n",
    "        return True\n",
    "    else:\n",
    "        return False\n",
    "\n",
    "numero = int(input(\"Introduce un número: \"))\n",
    "if es_par(numero):\n",
    "    print(f\"El número {numero} es par.\")\n",
    "else:\n",
    "    print(f\"El número {numero} es impar.\")"
   ]
  },
  {
   "cell_type": "markdown",
   "metadata": {},
   "source": [
    "#### 4. Escribe un función que devuelva un saludo personalizado a una persona dado su nombre. \n"
   ]
  },
  {
   "cell_type": "code",
   "execution_count": 4,
   "metadata": {},
   "outputs": [
    {
     "name": "stdout",
     "output_type": "stream",
     "text": [
      "Hola, Lucía! ¡Espero que tengas un día genial!\n"
     ]
    }
   ],
   "source": [
    "def saludo_personalizado(nombre):\n",
    "     return f\"Hola, {nombre}! ¡Espero que tengas un día genial!\"\n",
    "nombre_usuario = input(\"Ingresa tu nombre: \")\n",
    "print(saludo_personalizado(nombre_usuario))"
   ]
  },
  {
   "cell_type": "markdown",
   "metadata": {},
   "source": [
    "#### 5. Escribe una función que sume todos los números que reciba como argumento. La función debe recibir una cantidad variable de argumentos y devolver la suma de todos ellos."
   ]
  },
  {
   "cell_type": "code",
   "execution_count": 13,
   "metadata": {},
   "outputs": [
    {
     "name": "stdout",
     "output_type": "stream",
     "text": [
      "La suma de todos los numero es: 15\n"
     ]
    }
   ],
   "source": [
    "def sumar_todos(*numeros):\n",
    "    suma = 0\n",
    "    for numero in numeros: \n",
    "        suma += numero  \n",
    "    return suma  \n",
    "resultado = sumar_todos (1,2,3,4,5)\n",
    "print(\"La suma de todos los numero es:\", resultado)\n",
    "\n",
    "\n"
   ]
  },
  {
   "cell_type": "markdown",
   "metadata": {},
   "source": [
    "#### 6. Escribe una función que cuente las letras de una palabra y devuelva un diccionario con la cantidad de veces que se repite cada letra \n"
   ]
  },
  {
   "cell_type": "code",
   "execution_count": 21,
   "metadata": {},
   "outputs": [
    {
     "name": "stdout",
     "output_type": "stream",
     "text": [
      "Cantidad de veces que se repite cada letra:\n",
      "{'M': 1, 'a': 1, 't': 1, 'i': 1, 'l': 1, 'd': 1, 'e': 1}\n"
     ]
    }
   ],
   "source": [
    "def contar_letras(palabra):\n",
    "    contador = {}\n",
    "    for letra in palabra:\n",
    "        if letra in contador:\n",
    "            contador[letra] += 1  \n",
    "        else:\n",
    "            contador[letra] = 1  \n",
    "    return contador\n",
    "\n",
    "palabra_usuario = input(\"Ingresa una palabra: \")\n",
    "resultado = contar_letras(palabra_usuario)\n",
    "print(\"Cantidad de veces que se repite cada letra:\")\n",
    "print(resultado)\n"
   ]
  },
  {
   "cell_type": "markdown",
   "metadata": {},
   "source": [
    "#### 7. Escribe un función recursiva para calcular el factorial de un número entero no negativo."
   ]
  },
  {
   "cell_type": "code",
   "execution_count": 25,
   "metadata": {},
   "outputs": [
    {
     "name": "stdout",
     "output_type": "stream",
     "text": [
      "El factorial de 45 es: 119622220865480194561963161495657715064383733760000000000\n"
     ]
    }
   ],
   "source": [
    "def factorial(n):\n",
    "        if n < 0:\n",
    "                return \"El número debe ser no negativo.\"  \n",
    "        elif n ==0 or n==1:\n",
    "                return 1\n",
    "        else:\n",
    "                return n* factorial(n-1)\n",
    "    \n",
    "numero = int(input(\"Introduce un número entero no negativo: \"))\n",
    "resultado = factorial(numero)\n",
    "print(f\"El factorial de {numero} es: {resultado}\")"
   ]
  },
  {
   "cell_type": "markdown",
   "metadata": {},
   "source": [
    "#### 8. Escribe una función que tome dos parámetros: `figura` (una cadena que puede ser `\"rectangulo\"`, `\"circulo\"` o `\"triangulo\"`) y `datos` (una tupla con los datos necesarios para calcular el área de la figura). "
   ]
  },
  {
   "cell_type": "code",
   "execution_count": 30,
   "metadata": {},
   "outputs": [
    {
     "name": "stdout",
     "output_type": "stream",
     "text": [
      "50\n"
     ]
    }
   ],
   "source": [
    "import math\n",
    "def calcular_area(figura, datos):\n",
    "     if figura == \"rectangulo\":\n",
    "        base, altura = datos\n",
    "        return base * altura\n",
    "     elif figura == \"circulo\":\n",
    "         radio = datos[0]\n",
    "         return math.pi *(radio**2)\n",
    "     elif figura == \"triangulo\":\n",
    "         base, altura = datos\n",
    "         return (base*altura)/2\n",
    "     else:\n",
    "         \"No se encuentra entre las opciones\"\n",
    "\n",
    "print(calcular_area(\"rectangulo\", (5, 10)))\n",
    "\n",
    "\n"
   ]
  },
  {
   "cell_type": "markdown",
   "metadata": {},
   "source": [
    "#### 9. Escribe una función que tome una lista de números como parámetro y devuelva el número más grande de la lista. No utilices la función `max()` de Python en tu solución."
   ]
  },
  {
   "cell_type": "code",
   "execution_count": 34,
   "metadata": {},
   "outputs": [
    {
     "name": "stdout",
     "output_type": "stream",
     "text": [
      "El número más grande es: 290\n"
     ]
    }
   ],
   "source": [
    "def encontrar_mas_grande(lista_numeros):\n",
    "    if not lista_numeros:\n",
    "        return None\n",
    "    max_numero = lista_numeros[0]\n",
    "    for numero in lista_numeros:\n",
    "        if numero > max_numero:\n",
    "            max_numero = numero\n",
    "    return max_numero\n",
    "numeros = [20,67,56,43,290,5,26,17]\n",
    "resultado = encontrar_mas_grande(numeros)\n",
    "print(\"El número más grande es:\", resultado)"
   ]
  },
  {
   "cell_type": "markdown",
   "metadata": {},
   "source": [
    "#### 10. Escribe una función que tome una cadena como parámetro un texto y devuelva `True` si la cadena es un palíndromo (se lee igual de izquierda a derecha que de derecha a izquierda), y `False` en caso contrario. Ignora los espacios y considera mayúsculas y minúsculas de manera insensible.\n"
   ]
  },
  {
   "cell_type": "code",
   "execution_count": 38,
   "metadata": {},
   "outputs": [
    {
     "name": "stdout",
     "output_type": "stream",
     "text": [
      "{False}\n"
     ]
    }
   ],
   "source": [
    "def es_palindromo(texto):\n",
    "    texto_limpio = texto.replace(\" \", \"\").lower()\n",
    "    if texto_limpio == texto_limpio[::-1]:\n",
    "        return True\n",
    "    else:\n",
    "        return False\n",
    "frase = \"Le avisará sara si va él\"\n",
    "resultado = es_palindromo (frase)\n",
    "print({resultado})"
   ]
  },
  {
   "cell_type": "markdown",
   "metadata": {},
   "source": [
    "#### 11. Escribe una función que tome una cadena como parámetro y devuelva dos valores: la cantidad de vocales y la cantidad de consonantes presentes en la cadena. Ignora los espacios y considera mayúsculas y minúsculas de manera insensible.\n"
   ]
  },
  {
   "cell_type": "code",
   "execution_count": 43,
   "metadata": {},
   "outputs": [
    {
     "name": "stdout",
     "output_type": "stream",
     "text": [
      "Cantidad de vocales: 9\n",
      "Cantidad de consonantes: 13\n"
     ]
    }
   ],
   "source": [
    "def contar_vocales_consonantes(cadena):\n",
    "    vocales = \"aeiou\"\n",
    "    cantidad_vocales = 0\n",
    "    cantidad_consonantes = 0\n",
    "    cadena = cadena.lower()\n",
    "    for caracter in cadena:\n",
    "        if caracter in vocales:\n",
    "                cantidad_vocales += 1\n",
    "        else:\n",
    "                cantidad_consonantes += 1\n",
    "    return cantidad_vocales, cantidad_consonantes\n",
    "texto = \"La vida es maravillosa\"\n",
    "vocales, consonantes = contar_vocales_consonantes(texto)\n",
    "print(f\"Cantidad de vocales: {vocales}\")\n",
    "print(f\"Cantidad de consonantes: {consonantes}\")\n"
   ]
  }
 ],
 "metadata": {
  "kernelspec": {
   "display_name": "Python 3",
   "language": "python",
   "name": "python3"
  },
  "language_info": {
   "codemirror_mode": {
    "name": "ipython",
    "version": 3
   },
   "file_extension": ".py",
   "mimetype": "text/x-python",
   "name": "python",
   "nbconvert_exporter": "python",
   "pygments_lexer": "ipython3",
   "version": "3.11.9"
  }
 },
 "nbformat": 4,
 "nbformat_minor": 2
}
