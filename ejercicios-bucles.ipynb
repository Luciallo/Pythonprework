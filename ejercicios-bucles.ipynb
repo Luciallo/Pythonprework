{
 "cells": [
  {
   "cell_type": "markdown",
   "metadata": {},
   "source": [
    "<div style=\"text-align: center;\">\n",
    "  <img src=\"https://github.com/Hack-io-Data/Imagenes/blob/main/01-LogosHackio/logo_celeste@4x.png?raw=true\" alt=\"logo hack(io)\" />\n",
    "</div>"
   ]
  },
  {
   "cell_type": "markdown",
   "metadata": {},
   "source": [
    "####  1. Genera una lista de números del 0 al 4 y luego imprime cada número en la lista usando un `bucle for`. "
   ]
  },
  {
   "cell_type": "code",
   "execution_count": 3,
   "metadata": {},
   "outputs": [
    {
     "name": "stdout",
     "output_type": "stream",
     "text": [
      "1\n",
      "2\n",
      "3\n",
      "4\n"
     ]
    }
   ],
   "source": [
    "numeros = [ 1, 2,3,4 ]\n",
    "for numero in  numeros:\n",
    "    print(numero)"
   ]
  },
  {
   "cell_type": "markdown",
   "metadata": {},
   "source": [
    "#### 2. Itera sobre una lista de frutas y muestra cada fruta en mayúsculas. \n"
   ]
  },
  {
   "cell_type": "code",
   "execution_count": 4,
   "metadata": {},
   "outputs": [
    {
     "name": "stdout",
     "output_type": "stream",
     "text": [
      "MANZANA\n",
      "PERA\n",
      "PLATANO\n",
      "NARANJA\n"
     ]
    }
   ],
   "source": [
    "lista_frutas= [\"manzana\",\"pera\",\"platano\",\"naranja\"]\n",
    "for fruta in lista_frutas:\n",
    "    mayuscula = fruta.upper()\n",
    "    print(mayuscula)"
   ]
  },
  {
   "cell_type": "markdown",
   "metadata": {},
   "source": [
    "####  3. Genera un bucle while que imprima los números del 0 al 4. \n"
   ]
  },
  {
   "cell_type": "code",
   "execution_count": 6,
   "metadata": {},
   "outputs": [
    {
     "name": "stdout",
     "output_type": "stream",
     "text": [
      " contado: 0\n",
      " contado: 1\n",
      " contado: 2\n",
      " contado: 3\n",
      " contado: 4\n"
     ]
    }
   ],
   "source": [
    "contador = 0\n",
    "while contador < 5:\n",
    "    print (f\" contado:\", contador)\n",
    "    contador+= 1"
   ]
  },
  {
   "cell_type": "markdown",
   "metadata": {},
   "source": [
    "#### 4. Genera un bucle del 0 al 9, pero que se detenga en el 5.\n"
   ]
  },
  {
   "cell_type": "code",
   "execution_count": 5,
   "metadata": {},
   "outputs": [
    {
     "name": "stdout",
     "output_type": "stream",
     "text": [
      "0\n",
      "1\n",
      "2\n",
      "3\n",
      "4\n"
     ]
    }
   ],
   "source": [
    "for i in range(10):\n",
    "    if i == 5:  \n",
    "        break\n",
    "    print (i)"
   ]
  },
  {
   "cell_type": "markdown",
   "metadata": {},
   "source": [
    "#### 5. Recorre los números del 0 al 9 e imprime solo los números impares."
   ]
  },
  {
   "cell_type": "code",
   "execution_count": 7,
   "metadata": {},
   "outputs": [
    {
     "name": "stdout",
     "output_type": "stream",
     "text": [
      "2\n",
      "4\n",
      "6\n",
      "8\n"
     ]
    }
   ],
   "source": [
    "numeros = [1,2,3,4,5,6,7,8,9]\n",
    "for numero in numeros:\n",
    "    if numero % 2 == 0:\n",
    "        print(numero)\n"
   ]
  },
  {
   "cell_type": "markdown",
   "metadata": {},
   "source": [
    "#### 6. Dada la lista `[10, 20, 30, 40, 50]`, calcula la suma de todos los elementos usando un bucle `for`."
   ]
  },
  {
   "cell_type": "code",
   "execution_count": 8,
   "metadata": {},
   "outputs": [
    {
     "name": "stdout",
     "output_type": "stream",
     "text": [
      "10\n",
      "20\n",
      "30\n",
      "40\n",
      "50\n"
     ]
    },
    {
     "data": {
      "text/plain": [
       "150"
      ]
     },
     "execution_count": 8,
     "metadata": {},
     "output_type": "execute_result"
    }
   ],
   "source": [
    "lista_numeros= [10,20,30,40,50]\n",
    "resultado = 0 \n",
    "for numero in lista_numeros:\n",
    "    print(numero)\n",
    "    resultado += numero\n",
    "resultado"
   ]
  },
  {
   "cell_type": "markdown",
   "metadata": {},
   "source": [
    "#### 7. Dada la cadena `\"Hola mundo\"`, cuenta cuántas veces aparecen las vocales (`a`, `e`, `i`, `o`, `u`) usando un bucle `for`.\n"
   ]
  },
  {
   "cell_type": "code",
   "execution_count": 9,
   "metadata": {},
   "outputs": [
    {
     "name": "stdout",
     "output_type": "stream",
     "text": [
      "El número de vocales en la cadena es: 4\n"
     ]
    }
   ],
   "source": [
    "cadena = \"Hola mundo\"\n",
    "vocales = \"aeiou\"\n",
    "contador_vocales = 0\n",
    "for letra in cadena.lower():\n",
    "    if letra in vocales:\n",
    "        contador_vocales += 1 \n",
    "print(f\"El número de vocales en la cadena es: {contador_vocales}\")"
   ]
  },
  {
   "cell_type": "markdown",
   "metadata": {},
   "source": [
    "#### 8. Dada la cadena `\"Python\"`, usa un bucle `for` para imprimir los caracteres en orden inverso (`n`, `o`, `h`, `t`, `y`, `P`).\n"
   ]
  },
  {
   "cell_type": "code",
   "execution_count": 11,
   "metadata": {},
   "outputs": [
    {
     "name": "stdout",
     "output_type": "stream",
     "text": [
      "n\n",
      "o\n",
      "h\n",
      "t\n",
      "y\n",
      "P\n"
     ]
    }
   ],
   "source": [
    "cadena = \"Python\"\n",
    "for caracter in reversed(cadena):\n",
    "    print(caracter)"
   ]
  },
  {
   "cell_type": "markdown",
   "metadata": {},
   "source": [
    "#### 9. Dada la lista `[1, 2, 3, 4, 5]`, multiplica todos sus elementos usando un bucle `for` y almacena los resultados en una lista nueva. \n"
   ]
  },
  {
   "cell_type": "code",
   "execution_count": 12,
   "metadata": {},
   "outputs": [
    {
     "name": "stdout",
     "output_type": "stream",
     "text": [
      "Lista de productos acumulados: [1, 2, 6, 24, 120]\n"
     ]
    }
   ],
   "source": [
    "lista = [1, 2, 3, 4, 5]\n",
    "resultados = []\n",
    "producto = 1\n",
    "for numero in lista:\n",
    "    producto *= numero\n",
    "    resultados.append(producto)\n",
    "print(\"Lista de productos acumulados:\", resultados)"
   ]
  },
  {
   "cell_type": "markdown",
   "metadata": {},
   "source": [
    "#### 10. Dada la lista `[1, 2, 3, 4, 5, 6, 7, 8, 9, 10]`, utiliza un bucle `for` para contar cuántos números son pares y cuántos son impares."
   ]
  },
  {
   "cell_type": "code",
   "execution_count": 13,
   "metadata": {},
   "outputs": [
    {
     "name": "stdout",
     "output_type": "stream",
     "text": [
      "[2, 4, 6, 8, 10]\n",
      "[1, 3, 5, 7, 9]\n",
      "5\n",
      "5\n"
     ]
    }
   ],
   "source": [
    "lista_numeros =[1,2,3,4,5,6,7,8,9,10]\n",
    "lista_pares =[]\n",
    "lista_impares=[]\n",
    "for numero in lista_numeros:\n",
    "    if numero % 2 == 0:\n",
    "        lista_pares.append(numero)\n",
    "    else:\n",
    "        lista_impares.append(numero)\n",
    "\n",
    "print(lista_pares)\n",
    "print(lista_impares)\n",
    "print(len(lista_pares))\n",
    "print(len(lista_impares))"
   ]
  },
  {
   "cell_type": "markdown",
   "metadata": {},
   "source": [
    "#### 11. Escribe un programa que solicite al usuario un número entero positivo (`n`) y calcule la suma de todos los números primos menores o iguales a `n`. Utiliza un bucle `for` para iterar sobre cada número y verifica si es primo."
   ]
  },
  {
   "cell_type": "code",
   "execution_count": 17,
   "metadata": {},
   "outputs": [
    {
     "name": "stdout",
     "output_type": "stream",
     "text": [
      "La suma de todos los números primos menores o iguales a 45 es: 281\n"
     ]
    }
   ],
   "source": [
    "def es_primo(numero):\n",
    "    if numero < 2:\n",
    "        return False\n",
    "    for i in range(2, int(numero ** 0.5) + 1):\n",
    "        if numero % i == 0:\n",
    "            return False\n",
    "    return True\n",
    "def suma_primos_hasta_n(n):\n",
    "    suma = 0\n",
    "    for i in range(2, n + 1):\n",
    "        if es_primo(i):\n",
    "            suma += i\n",
    "    return suma\n",
    "while True:\n",
    "    try:\n",
    "        n = int(input(\"Ingresa un número entero positivo: \"))\n",
    "        if n < 0:\n",
    "            print(\"Por favor, ingresa un número positivo.\")\n",
    "        else:\n",
    "            break\n",
    "    except ValueError:\n",
    "        print(\"Entrada inválida. Debes ingresar un número entero positivo.\")\n",
    "resultado = suma_primos_hasta_n(n)\n",
    "print(f\"La suma de todos los números primos menores o iguales a {n} es: {resultado}\")"
   ]
  },
  {
   "cell_type": "markdown",
   "metadata": {},
   "source": [
    "#### 12. Escribe un programa que solicite al usuario un número entero positivo (`n`) y luego imprima un patrón de asteriscos como el siguiente ejemplo para `n = 5`:\n",
    "```\n",
    "*\n",
    "**\n",
    "***\n",
    "****\n",
    "*****\n",
    "```\n",
    "Utiliza un bucle `for` anidado para controlar la cantidad de asteriscos en cada línea."
   ]
  },
  {
   "cell_type": "code",
   "execution_count": 19,
   "metadata": {},
   "outputs": [
    {
     "name": "stdout",
     "output_type": "stream",
     "text": [
      "*\n",
      "**\n",
      "***\n",
      "****\n",
      "*****\n",
      "******\n",
      "*******\n",
      "********\n",
      "*********\n",
      "**********\n"
     ]
    }
   ],
   "source": [
    "n = int(input(\"Introduce un número entero positivo: \"))\n",
    "if n > 0:\n",
    "    for i in range(1, n + 1): \n",
    "         for j in range(i): \n",
    "              print(\"*\", end=\"\")\n",
    "         print()\n",
    "else:\n",
    "    print(\"Por favor, introduce un número entero positivo válido.\")"
   ]
  },
  {
   "cell_type": "markdown",
   "metadata": {},
   "source": [
    "#### 13. Dado un texto, utiliza un bucle `for` para contar cuántas veces aparece cada palabra en el texto. Ignora mayúsculas/minúsculas y los signos de puntuación."
   ]
  },
  {
   "cell_type": "code",
   "execution_count": 31,
   "metadata": {},
   "outputs": [
    {
     "name": "stdout",
     "output_type": "stream",
     "text": [
      "Conteo de palabras:\n",
      "maría: 1\n",
      "tiene: 1\n",
      "una: 2\n",
      "gominola: 1\n",
      "y: 1\n",
      "chocolatina: 1\n"
     ]
    }
   ],
   "source": [
    "texto = \"María tiene una gominola y una chocolatina\"\n",
    "texto_limpio = texto.lower().translate(str.maketrans('', '', string.punctuation))\n",
    "palabras = texto_limpio.split()\n",
    "conteo_palabras = {}\n",
    "for palabra in palabras:\n",
    "    if palabra in conteo_palabras:\n",
    "        conteo_palabras[palabra] += 1\n",
    "    else:\n",
    "        conteo_palabras[palabra] = 1\n",
    "print(\"Conteo de palabras:\")\n",
    "for palabra, conteo in conteo_palabras.items():\n",
    "    print(f\"{palabra}: {conteo}\")"
   ]
  },
  {
   "cell_type": "markdown",
   "metadata": {},
   "source": [
    "#### 14. Escribe un programa que solicite al usuario dos números enteros positivos (`inicio` y `fin`, donde `inicio <= fin`) y luego calcule la suma de los números pares y la suma de los números impares en ese rango. Utiliza un bucle `for` para iterar sobre cada número y una estructura `if-else` para clasificar y sumar los números pares e impares."
   ]
  },
  {
   "cell_type": "code",
   "execution_count": 25,
   "metadata": {},
   "outputs": [
    {
     "name": "stdout",
     "output_type": "stream",
     "text": [
      "\n",
      "Suma de números pares: 6\n",
      "Suma de números impares: 12\n"
     ]
    }
   ],
   "source": [
    "inicio = int(input(\"Introduce el número de inicio (entero positivo): \"))\n",
    "fin = int(input(\"Introduce el número de fin (entero positivo, mayor o igual al inicio): \"))\n",
    "suma_pares = 0\n",
    "suma_impares = 0\n",
    "for numero in range(inicio, fin + 1):\n",
    "    suma_pares += numero if numero % 2 == 0 else 0\n",
    "    suma_impares += numero if numero % 2 != 0 else 0\n",
    "print(f\"\\nSuma de números pares: {suma_pares}\")\n",
    "print(f\"Suma de números impares: {suma_impares}\")"
   ]
  },
  {
   "cell_type": "markdown",
   "metadata": {},
   "source": [
    "#### 15. Escribe un programa que solicite al usuario un número entero positivo (`n`) y luego identifique todos los números primos menores o iguales a `n`. Para cada número, imprime si es primo o no usando un bucle `for` y una estructura `if-else` para verificar la condición de primalidad."
   ]
  },
  {
   "cell_type": "code",
   "execution_count": 27,
   "metadata": {},
   "outputs": [
    {
     "name": "stdout",
     "output_type": "stream",
     "text": [
      "Números primos menores o iguales a 7:\n",
      "2 es primo\n",
      "3 es primo\n",
      "4 no es primo\n",
      "5 es primo\n",
      "6 no es primo\n",
      "7 es primo\n"
     ]
    }
   ],
   "source": [
    "n = int(input(\"Por favor, ingresa un número entero positivo: \"))\n",
    "if n <= 0:\n",
    "    print(\"Debes ingresar un número entero positivo mayor que cero.\")\n",
    "else:\n",
    "    print(f\"Números primos menores o iguales a {n}:\")\n",
    "    for num in range(2, n + 1):\n",
    "        # Verificar si el número es primo\n",
    "        if all(num % divisor != 0 for divisor in range(2, int(num**0.5) + 1)):\n",
    "            print(f\"{num} es primo\")\n",
    "        else:\n",
    "            print(f\"{num} no es primo\")"
   ]
  },
  {
   "cell_type": "markdown",
   "metadata": {},
   "source": [
    "#### 16.Dada una lista de precios `[100, 200, 300, 400, 500]`, aplica un descuento del 10% a todos los precios mayores a `250`. Imprime la lista actualizada de precios después de aplicar el descuento utilizando un bucle `for`. "
   ]
  },
  {
   "cell_type": "code",
   "execution_count": 29,
   "metadata": {},
   "outputs": [
    {
     "name": "stdout",
     "output_type": "stream",
     "text": [
      "[100, 200, 270.0, 360.0, 450.0]\n"
     ]
    }
   ],
   "source": [
    "precios = [100, 200, 300, 400, 500]\n",
    "for i in range(len(precios)):\n",
    "     if precios[i] > 250:\n",
    "          precios[i] = precios[i] * 0.9\n",
    "print(precios)"
   ]
  },
  {
   "cell_type": "markdown",
   "metadata": {},
   "source": [
    "#### 17. Dada una lista de calificaciones de estudiantes `[85, 92, 78, 90, 88]`, clasifica a cada estudiante como \"Aprobado\" si la calificación es mayor o igual a `80` y como \"Reprobado\" si es menor a `80`. Imprime el nombre de cada estudiante junto con su estado utilizando un bucle `for` y una estructura `if-else`.\n"
   ]
  },
  {
   "cell_type": "code",
   "execution_count": 39,
   "metadata": {},
   "outputs": [
    {
     "name": "stdout",
     "output_type": "stream",
     "text": [
      "Juanito:aprobado\n",
      "Jaimito:aprobado\n",
      "Jorgito:reprobado\n",
      "Anita:aprobado\n",
      "Martita:aprobado\n"
     ]
    }
   ],
   "source": [
    "calificaciones = [85, 92, 78, 90, 88]\n",
    "estudiantes = [\"Juanito\", \"Jaimito\", \"Jorgito\", \"Anita\", \"Martita\"]\n",
    "for i in range(len(calificaciones)):\n",
    "    if calificaciones[i] >= 80:\n",
    "        nota = \"aprobado\"\n",
    "    else: \n",
    "        nota =\"reprobado\"\n",
    "    print(f\"{estudiantes[i]}:{nota}\")\n"
   ]
  },
  {
   "cell_type": "markdown",
   "metadata": {},
   "source": [
    "\n",
    "#### 18. Escribe un programa que solicite al usuario dos números enteros positivos (`inicio`, `fin`) y otro número entero positivo (`divisor`). Encuentra el número más grande en el rango desde `inicio` hasta `fin` que sea divisible por `divisor`. Utiliza un bucle `for` y una estructura `if-else` para verificar y mantener el registro del número más grande divisible por el divisor dado.\n"
   ]
  },
  {
   "cell_type": "code",
   "execution_count": 40,
   "metadata": {},
   "outputs": [
    {
     "name": "stdout",
     "output_type": "stream",
     "text": [
      "El número más grande divisible por 2 en el rango [4, 6] es: 6\n"
     ]
    }
   ],
   "source": [
    "inicio = int(input(\"Introduce el número inicial (entero positivo): \"))\n",
    "fin = int(input(\"Introduce el número final (entero positivo): \"))\n",
    "divisor = int(input(\"Introduce el número divisor (entero positivo): \"))\n",
    "numero_mas_grande = 0\n",
    "for i in range(fin, inicio - 1, -1):\n",
    "    if i % divisor == 0: \n",
    "        numero_mas_grande = i\n",
    "        break\n",
    "if numero_mas_grande:\n",
    "    print(f\"El número más grande divisible por {divisor} en el rango [{inicio}, {fin}] es: {numero_mas_grande}\")\n",
    "else:\n",
    "    print(f\"No hay números divisibles por {divisor} en el rango [{inicio}, {fin}].\")"
   ]
  }
 ],
 "metadata": {
  "kernelspec": {
   "display_name": "Python 3",
   "language": "python",
   "name": "python3"
  },
  "language_info": {
   "codemirror_mode": {
    "name": "ipython",
    "version": 3
   },
   "file_extension": ".py",
   "mimetype": "text/x-python",
   "name": "python",
   "nbconvert_exporter": "python",
   "pygments_lexer": "ipython3",
   "version": "3.11.9"
  }
 },
 "nbformat": 4,
 "nbformat_minor": 2
}
