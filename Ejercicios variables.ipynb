{
 "cells": [
  {
   "cell_type": "markdown",
   "metadata": {},
   "source": [
    "<div style=\"text-align: center;\">\n",
    "  <img src=\"https://github.com/Hack-io-Data/Imagenes/blob/main/01-LogosHackio/logo_celeste@4x.png?raw=true\" alt=\"logo hack(io)\" />\n",
    "</div>"
   ]
  },
  {
   "cell_type": "markdown",
   "metadata": {},
   "source": [
    "## Tipos de datos\n",
    "\n",
    "Es esencial comprender los distintos tipos de datos en Python, como enteros, flotantes, cadenas de texto, booleanos, listas, tuplas y diccionarios. Este conocimiento es fundamental para el diseño de algoritmos, ya que los tipos de datos determinan cómo se almacenan y procesan los datos en la memoria.\n",
    "\n",
    "En esta batería de ejercicios, exploraremos los tipos de datos en Python y cómo utilizarlos eficientemente. Desde los conceptos básicos hasta los más avanzados, esta serie de ejercicios está diseñada para mejorar las habilidades de programación en Python y profundizar la comprensión de los tipos de datos, esencial para desarrollar aplicaciones de calidad y eficientes."
   ]
  },
  {
   "cell_type": "markdown",
   "metadata": {},
   "source": [
    "### Ejercicio 1: Operaciones aritméticas con números complejos\n",
    "\n",
    "1-Declara dos variables `numero1` y `numero2` y asigna a ellas valores numéricos complejos.\n",
    "\n",
    "2-Realiza las siguientes operaciones: suma, resta, multiplicación y división.\n",
    "\n",
    "3-Imprime en pantalla el resultado de cada operación utilizando la función `print()`."
   ]
  },
  {
   "cell_type": "code",
   "execution_count": 14,
   "metadata": {},
   "outputs": [
    {
     "name": "stdout",
     "output_type": "stream",
     "text": [
      "Suma (6+12j)\n",
      "Resta (4+8j)\n",
      "Mutltiplicación (-15+20j)\n",
      "División (5+0j)\n"
     ]
    }
   ],
   "source": [
    "# Tomamos como 'numero1' complejo '1 + 2j'\n",
    "numero1 = 1 + 2j\n",
    "\n",
    "# Tomamos como 'numero2' complejo '5 + 10j'\n",
    "numero2 = 5 + 10j\n",
    "\n",
    "# Se suman los dos valores\n",
    "suma1y2 = numero1 + numero2\n",
    "\n",
    "print(\"Suma\",suma1y2,)\n",
    "\n",
    "# Se restan los dos valores\n",
    "resta1y2 = numero2 - numero1\n",
    "\n",
    "print(\"Resta\", resta1y2,)\n",
    "\n",
    "# Se multiplican los dos valores\n",
    "mult1y2 = numero1 * numero2\n",
    "\n",
    "print(\"Mutltiplicación\", mult1y2,)\n",
    "\n",
    "# Se dividen los dos valores\n",
    "div1y2 = numero2 / numero1\n",
    "\n",
    "print(\"División\", div1y2,)\n"
   ]
  },
  {
   "cell_type": "markdown",
   "metadata": {},
   "source": [
    "### Ejercicio 2: Formateo de cadenas de texto\n",
    "\n",
    "1-Declara una variable `nombre` y asigna a ella el valor 'Juan'.\n",
    "\n",
    "2-Declara una variable `edad` y asigna a ella el valor 25.\n",
    "\n",
    "3- Declara una variable llamada `peso` y asigna a ella el valor 75.5.\n",
    "\n",
    "4-Declara una variable llamada `altura` y asigna a ella el valor 1.75.\n",
    "\n",
    "5-Imprime en pantalla el valor de cada variable utilizando la función print().\n",
    "\n",
    "6-Utiliza el formateo de cadenas de texto para imprimir en pantalla un mensaje que diga: `Hola me llamo Juan, tengo 25 años, peso 75.5 kg y mido 1.75 m`."
   ]
  },
  {
   "cell_type": "code",
   "execution_count": 13,
   "metadata": {},
   "outputs": [
    {
     "name": "stdout",
     "output_type": "stream",
     "text": [
      "Hola me llamo Juan ,tengo 30 años, peso 75.5 kg y mido 1.75 m\n"
     ]
    }
   ],
   "source": [
    "# El 'print()' también nos permite mostrar varias variables a la vez como vemos en el ejemplo a continuación: \n",
    "\n",
    "# definimos una variable llamada \"nombre\" de tipo *string*\n",
    "nombre = \"Juan\"\n",
    "\n",
    "# definimos una variable llamada \"edad\" de tipo int (número entero)\n",
    "edad = 30\n",
    "\n",
    "# definimos una variable llamada \"peso\" de tipo float (número decimal)\n",
    "peso = 75.5\n",
    "\n",
    "# definimos una variable llamada \"altura\" de tipo float (número decimal)\n",
    "altura = 1.75\n",
    "\n",
    "# mostramos por pantalla las variables definidas previamente junto con otro texto. \n",
    "print(\"Hola me llamo\", nombre, \",tengo\", edad, \"años, peso\", peso, \"kg y mido\", altura, \"m\")\n"
   ]
  },
  {
   "cell_type": "markdown",
   "metadata": {},
   "source": [
    "### Ejercicio 3: Conversión de cadenas de texto a números\n",
    "\n",
    "\n",
    "1-Declara una variable `cadena` y asigna a ella el valor '10'.\n",
    "\n",
    "2-Utiliza la función type() para obtener el tipo de dato de `cadena` y asigna el resultado a una variable llamada `tipo`.\n",
    "\n",
    "3- Imprime en pantalla el valor de `tipo` utilizando la función print().\n",
    "\n",
    "4-Convierte el valor de `cadena` a entero y asigna el resultado a una variable llamada `numero`.\n",
    "\n",
    "5-Realiza la operación de incremento en `numero` y asigna el resultado a la misma variable.\n"
   ]
  },
  {
   "cell_type": "code",
   "execution_count": 12,
   "metadata": {},
   "outputs": [
    {
     "name": "stdout",
     "output_type": "stream",
     "text": [
      "El tipo de dato de la variable cadena es: <class 'int'>\n",
      " El numero es 11\n"
     ]
    }
   ],
   "source": [
    "# vamos a definir nuestra primera variable de tipo integer, en este caso crearemos la variable 'cadena' que va a ser igual 10\n",
    "cadena = 10\n",
    "\n",
    "# comprobamos el tipo de dato de la variable 'cadena' usando la función 'type()' \n",
    "tipo= type(cadena)\n",
    "\n",
    "# En combinación con la función 'print()'\n",
    "print(\"El tipo de dato de la variable cadena es:\", type(cadena))\n",
    "\n",
    "# convertir a Entero: `int()`, el cual convierte un valor a entero. Si se trata de un número decimal, la parte decimal se trunca.\n",
    "# convertimos la variable a integer usando la función 'int()' \n",
    "numero = int(cadena) + 1\n",
    "\n",
    "print(\" El numero es\", numero,)\n",
    "\n",
    "\n"
   ]
  },
  {
   "cell_type": "markdown",
   "metadata": {},
   "source": [
    "### Ejercicio 4: Uso de la función input()\n",
    "\n",
    "1-Utiliza la función input() para solicitar al usuario que ingrese un número.\n",
    "\n",
    "2-Asigna el valor ingresado por el usuario a una variable llamada `numero`.\n",
    "\n",
    "3-Realiza la operación de incremento en `numero` y asigna el resultado a la misma variable.\n",
    "\n",
    "4-Imprime en pantalla el valor de numero utilizando la función print()."
   ]
  },
  {
   "cell_type": "code",
   "execution_count": 5,
   "metadata": {},
   "outputs": [
    {
     "name": "stdout",
     "output_type": "stream",
     "text": [
      "4\n"
     ]
    }
   ],
   "source": [
    "numero= int(input(\"Ingresa un numero entre el 1-10\"))\n",
    "\n",
    "numero2 = numero + 1\n",
    "\n",
    "print(numero2)\n",
    "\n",
    "\n",
    "\n",
    "\n",
    "\n",
    "\n"
   ]
  }
 ],
 "metadata": {
  "kernelspec": {
   "display_name": "Python 3",
   "language": "python",
   "name": "python3"
  },
  "language_info": {
   "codemirror_mode": {
    "name": "ipython",
    "version": 3
   },
   "file_extension": ".py",
   "mimetype": "text/x-python",
   "name": "python",
   "nbconvert_exporter": "python",
   "pygments_lexer": "ipython3",
   "version": "3.10.7"
  }
 },
 "nbformat": 4,
 "nbformat_minor": 2
}
