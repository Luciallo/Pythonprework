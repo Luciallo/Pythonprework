{
 "cells": [
  {
   "cell_type": "markdown",
   "metadata": {},
   "source": [
    "<div style=\"text-align: center;\">\n",
    "  <img src=\"https://github.com/Hack-io-Data/Imagenes/blob/main/01-LogosHackio/logo_celeste@4x.png?raw=true\" alt=\"logo hack(io)\" />\n",
    "</div>"
   ]
  },
  {
   "cell_type": "markdown",
   "metadata": {},
   "source": [
    "#### 1. Escribe un programa que determine si un número es par o impar.\n",
    "\n"
   ]
  },
  {
   "cell_type": "code",
   "execution_count": 5,
   "metadata": {},
   "outputs": [
    {
     "name": "stdout",
     "output_type": "stream",
     "text": [
      "Este numero es impar\n"
     ]
    }
   ],
   "source": [
    "numero= int(input(\"Introduce un numero:\"))\n",
    "\n",
    "if numero % 2 == 0:\n",
    "  print(\"Este numero es par\")\n",
    "else :\n",
    "  print(\"Este numero es impar\")\n",
    "\n",
    "\n",
    "\n",
    "    "
   ]
  },
  {
   "cell_type": "markdown",
   "metadata": {},
   "source": [
    "#### 2. Genera un programa que nos diga si es de noche, de día o tarde según la hora proporcionada por el usuario."
   ]
  },
  {
   "cell_type": "code",
   "execution_count": 13,
   "metadata": {},
   "outputs": [
    {
     "name": "stdout",
     "output_type": "stream",
     "text": [
      "Es por la tarde\n"
     ]
    }
   ],
   "source": [
    "hora = int(input(\"Que hora es?:\"))\n",
    "\n",
    "if hora  >= 8 and hora <= 13:\n",
    "    print(\" Es por la mañana\")\n",
    "elif hora  > 13 and hora  <= 20:\n",
    "    print(\"Es por la tarde\")\n",
    "else : \n",
    "    print (\" Es por la noche\")"
   ]
  },
  {
   "cell_type": "markdown",
   "metadata": {},
   "source": [
    "#### 3. Dado un nombre imprime un saludo personalizado."
   ]
  },
  {
   "cell_type": "code",
   "execution_count": 14,
   "metadata": {},
   "outputs": [
    {
     "name": "stdout",
     "output_type": "stream",
     "text": [
      "Hola Nacho\n"
     ]
    }
   ],
   "source": [
    "nombre = input(\"Por favor, indique su nombre:\")\n",
    "print(f\"Hola {nombre}\")"
   ]
  },
  {
   "cell_type": "markdown",
   "metadata": {},
   "source": [
    "#### 4. Escribe un programa que determine qué calificación en texto tiene un alumno en base a su calificación numérica. Las reglas de calificación son: \n",
    "\n",
    "- 0 - 69 insuficiente\n",
    "\n",
    "- 70 - 79 bien\n",
    "\n",
    "- 80 - 89 muy bien\n",
    "\n",
    "- 90 - 100 excelente\n"
   ]
  },
  {
   "cell_type": "code",
   "execution_count": 18,
   "metadata": {},
   "outputs": [
    {
     "name": "stdout",
     "output_type": "stream",
     "text": [
      " Tu nota es muy bien\n"
     ]
    }
   ],
   "source": [
    "nota= int(input(\"Introduce tu nota:\"))\n",
    "\n",
    "if nota > 0 and nota <= 69:\n",
    "    print(\"Tu nota es insuficiente\")\n",
    "elif nota >= 70 and nota <= 79:\n",
    "    print(\" Tu nota es bien\")\n",
    "elif nota >= 80 and nota <= 89:\n",
    "    print(\" Tu nota es muy bien\")\n",
    "else: \n",
    "    print(\"Tu nota es excelente\")"
   ]
  },
  {
   "cell_type": "markdown",
   "metadata": {},
   "source": [
    "#### 5. Escribe un programa que imprima el día de la semana, dado un número del 1 al 7.\n"
   ]
  },
  {
   "cell_type": "code",
   "execution_count": 23,
   "metadata": {},
   "outputs": [
    {
     "name": "stdout",
     "output_type": "stream",
     "text": [
      " Es viernes!!!\n"
     ]
    }
   ],
   "source": [
    "dia_semana= int(input(\"Que dia de la semana es ?:\"))\n",
    "\n",
    "if dia_semana ==1:\n",
    "   print(\"Es lunes\")\n",
    "elif dia_semana ==2:\n",
    "   print (\"Es marte\")\n",
    "elif dia_semana == 3:\n",
    "   print(\" Es miércoles\")\n",
    "elif dia_semana ==4:\n",
    "   print(\"Es jueves\")\n",
    "elif dia_semana== 5:\n",
    "   print(\" Es viernes!!!\")\n",
    "elif dia_semana ==6:\n",
    "   print(\"Es sábado\")\n",
    "else:\n",
    "   print(\"Es domingo=(\")\n",
    "\n"
   ]
  },
  {
   "cell_type": "markdown",
   "metadata": {},
   "source": [
    "#### 6. Escribe un programa que determine si un número es positivo, negativo o cero."
   ]
  },
  {
   "cell_type": "code",
   "execution_count": 27,
   "metadata": {},
   "outputs": [
    {
     "name": "stdout",
     "output_type": "stream",
     "text": [
      "El número es negativo\n"
     ]
    }
   ],
   "source": [
    "numero = int(input(\"Introduce un numero:\"))\n",
    "\n",
    "if numero >0:\n",
    "    print(\"El número es positivo\")\n",
    "elif numero<0:\n",
    "    print (\"El número es negativo\")\n",
    "else:\n",
    "    print (\"El número es 0\")\n"
   ]
  },
  {
   "cell_type": "markdown",
   "metadata": {},
   "source": [
    "#### 7. Escribe un programa que determine si una persona puede conducir o no. La edad mínima para conducir es 18 años. \n"
   ]
  },
  {
   "cell_type": "code",
   "execution_count": 29,
   "metadata": {},
   "outputs": [
    {
     "name": "stdout",
     "output_type": "stream",
     "text": [
      "Puedes conducir\n"
     ]
    }
   ],
   "source": [
    "edad= int(input(\"Que edad tienes:\"))\n",
    "\n",
    "if edad >= 18:\n",
    "    print(\"Puedes conducir\")\n",
    "else:\n",
    "    print(\"No puedes conducir\")\n",
    "        "
   ]
  },
  {
   "cell_type": "markdown",
   "metadata": {},
   "source": [
    "#### 8. Escribe un programa que determine si un estudiante aprobó o suspendió un examen."
   ]
  },
  {
   "cell_type": "code",
   "execution_count": 32,
   "metadata": {},
   "outputs": [
    {
     "name": "stdout",
     "output_type": "stream",
     "text": [
      " Estas suspenso\n"
     ]
    }
   ],
   "source": [
    "nota = int(input(\" Que nota tienes:\"))\n",
    "\n",
    "if nota >= 5 and nota <=10:\n",
    "    print(\"Estas aprobado\")\n",
    "elif nota >= 0 and nota <= 5:\n",
    "    print(\" Estas suspenso\")\n",
    "else:\n",
    "    print(\" Este número no es válido\")\n",
    "    \n",
    "    "
   ]
  },
  {
   "cell_type": "markdown",
   "metadata": {},
   "source": [
    "#### 9. Escribe un programa que determine si un número es múltiplo de 3 y 5.\n"
   ]
  },
  {
   "cell_type": "code",
   "execution_count": 47,
   "metadata": {},
   "outputs": [
    {
     "name": "stdout",
     "output_type": "stream",
     "text": [
      "Este numero es multiplo de 3\n"
     ]
    }
   ],
   "source": [
    "numero = int(input(\" Introduce un numero:\"))\n",
    "\n",
    "if numero%3 == 0 and numero%5==0:\n",
    "    print(\" Este numero es multiplo de 3 y de 5\")\n",
    "elif numero% 5 == 0:\n",
    "    print (\"Este numero es multiplo de 5\")\n",
    "elif numero%3 == 0:\n",
    "    print(\"Este numero es multiplo de 3\")\n",
    "else:\n",
    "    print(\"Este numero no es multiplo ni de 3 ni de 5\")"
   ]
  },
  {
   "cell_type": "markdown",
   "metadata": {},
   "source": [
    "#### 10. Escribe un programa que determine si un número es par o impar.\n"
   ]
  },
  {
   "cell_type": "code",
   "execution_count": 48,
   "metadata": {},
   "outputs": [
    {
     "name": "stdout",
     "output_type": "stream",
     "text": [
      "Este numero es impar\n"
     ]
    }
   ],
   "source": [
    "numero= int(input(\"Introduce un numero:\"))\n",
    "\n",
    "if numero % 2 == 0:\n",
    "  print(\"Este numero es par\")\n",
    "else :\n",
    "  print(\"Este numero es impar\")"
   ]
  }
 ],
 "metadata": {
  "kernelspec": {
   "display_name": "Python 3",
   "language": "python",
   "name": "python3"
  },
  "language_info": {
   "codemirror_mode": {
    "name": "ipython",
    "version": 3
   },
   "file_extension": ".py",
   "mimetype": "text/x-python",
   "name": "python",
   "nbconvert_exporter": "python",
   "pygments_lexer": "ipython3",
   "version": "3.10.7"
  }
 },
 "nbformat": 4,
 "nbformat_minor": 2
}
